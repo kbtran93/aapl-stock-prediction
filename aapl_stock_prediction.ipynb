{
  "nbformat": 4,
  "nbformat_minor": 0,
  "metadata": {
    "colab": {
      "name": "aapl_stock_prediction.ipynb",
      "provenance": [],
      "collapsed_sections": [],
      "authorship_tag": "ABX9TyMiSLXDs3xfbN9jAeRgBPWc",
      "include_colab_link": true
    },
    "kernelspec": {
      "name": "python3",
      "display_name": "Python 3"
    },
    "language_info": {
      "name": "python"
    }
  },
  "cells": [
    {
      "cell_type": "markdown",
      "metadata": {
        "id": "view-in-github",
        "colab_type": "text"
      },
      "source": [
        "<a href=\"https://colab.research.google.com/github/kbtran93/aapl-stock-prediction/blob/main/aapl_stock_prediction.ipynb\" target=\"_parent\"><img src=\"https://colab.research.google.com/assets/colab-badge.svg\" alt=\"Open In Colab\"/></a>"
      ]
    },
    {
      "cell_type": "code",
      "metadata": {
        "id": "RoP22SFepfaD"
      },
      "source": [
        "# Import required modules\n",
        "import pandas as pd\n",
        "import matplotlib as mpl\n",
        "import matplotlib.pyplot as plt\n",
        "import seaborn as sns\n",
        "import numpy as np\n",
        "from dateutil.parser import parse\n",
        "%matplotlib inline\n",
        "\n",
        "from sklearn.preprocessing import MinMaxScaler\n",
        "from keras.layers import LSTM, Dense, Dropout\n",
        "from sklearn.model_selection import TimeSeriesSplit\n",
        "from sklearn.metrics import mean_squared_error, r2_score\n",
        "import matplotlib.dates as mandates\n",
        "from sklearn import linear_model\n",
        "from keras.models import Sequential\n",
        "import keras.backend as K\n",
        "from keras.callbacks import EarlyStopping\n",
        "from tensorflow.keras.optimizers import Adam\n",
        "from keras.models import load_model\n",
        "from keras.utils.vis_utils import plot_model"
      ],
      "execution_count": null,
      "outputs": []
    },
    {
      "cell_type": "code",
      "metadata": {
        "colab": {
          "base_uri": "https://localhost:8080/",
          "height": 129
        },
        "id": "nGyrBexxqD7g",
        "outputId": "7836cf11-d303-4a7c-ada5-251b407451d6"
      },
      "source": [
        "# Import the data\n",
        "df = pd.read_csv('data/AAPL.csv')\n",
        "df.head()\n",
        "# Describe the data\n",
        "df.describe()"
      ],
      "execution_count": 7,
      "outputs": [
        {
          "output_type": "error",
          "ename": "SyntaxError",
          "evalue": "ignored",
          "traceback": [
            "\u001b[0;36m  File \u001b[0;32m\"<ipython-input-7-71ffe5d7a91c>\"\u001b[0;36m, line \u001b[0;32m2\u001b[0m\n\u001b[0;31m    df = pd.read_csv(https://github.com/kbtran93/aapl-stock-prediction/blob/main/data/AAPL.csv)\u001b[0m\n\u001b[0m                          ^\u001b[0m\n\u001b[0;31mSyntaxError\u001b[0m\u001b[0;31m:\u001b[0m invalid syntax\n"
          ]
        }
      ]
    },
    {
      "cell_type": "code",
      "metadata": {
        "id": "lw3IuaoNqHsP"
      },
      "source": [
        "# Convert the Date column to datetime\n",
        "df.Date = pd.to_datetime(df.Date, infer_datetime_format=True)\n",
        "\n",
        "# Set the Date as index\n",
        "df.set_index('Date', inplace=True)\n",
        "df.index"
      ],
      "execution_count": null,
      "outputs": []
    },
    {
      "cell_type": "code",
      "metadata": {
        "id": "wQ3F0aVxqRiO"
      },
      "source": [
        "# Use seaborn style defaults and set the default figure size\n",
        "sns.set(rc={'figure.figsize':(11, 4)})\n",
        "\n",
        "# Plotting\n",
        "fig, ax = plt.subplots()\n",
        "fig.set_size_inches(14, 10)\n",
        "ax = sns.lineplot(data=df[['Open', 'Low', 'High', 'Close']])"
      ],
      "execution_count": null,
      "outputs": []
    },
    {
      "cell_type": "code",
      "metadata": {
        "id": "2ZssZM5LqWpn"
      },
      "source": [
        "# Set Target Variable\n",
        "output_var = pd.DataFrame(df['Adj Close'])\n",
        "\n",
        "# Selecting the Features\n",
        "features = ['Open', 'High','Low','Volume']"
      ],
      "execution_count": null,
      "outputs": []
    },
    {
      "cell_type": "code",
      "metadata": {
        "id": "Xd9SQcleqcPp"
      },
      "source": [
        "# Scaling\n",
        "scaler = MinMaxScaler()\n",
        "feature_transform = scaler.fit_transform(df[features])\n",
        "feature_transform= pd.DataFrame(columns=features, data=feature_transform, index=df.index)\n",
        "feature_transform.head()"
      ],
      "execution_count": null,
      "outputs": []
    },
    {
      "cell_type": "code",
      "metadata": {
        "id": "W5SSiS3Eqkg6"
      },
      "source": [
        "# Splitting to Training set and Test set\n",
        "timesplit = TimeSeriesSplit(n_splits=10)\n",
        "\n",
        "for train_index, test_index in timesplit.split(feature_transform):\n",
        "        X_train, X_test = feature_transform[:len(train_index)], feature_transform[len(train_index): (len(train_index)+len(test_index))]\n",
        "        y_train, y_test = output_var[:len(train_index)].values.ravel(), output_var[len(train_index): (len(train_index)+len(test_index))].values.ravel()\n"
      ],
      "execution_count": null,
      "outputs": []
    },
    {
      "cell_type": "code",
      "metadata": {
        "id": "9UtogzZmquVm"
      },
      "source": [
        "# Process the data for LSTM\n",
        "trainX = np.array(X_train)\n",
        "testX = np.array(X_test)\n",
        "X_train = trainX.reshape(X_train.shape[0], 1, X_train.shape[1])\n",
        "X_test = testX.reshape(X_test.shape[0], 1, X_test.shape[1])"
      ],
      "execution_count": null,
      "outputs": []
    },
    {
      "cell_type": "code",
      "metadata": {
        "id": "UdZ3zY_uqyjX"
      },
      "source": [
        "# Building the LSTM Model\n",
        "lstm = Sequential()\n",
        "lstm.add(LSTM(32, input_shape=(1, trainX.shape[1]), activation='relu', return_sequences=False))\n",
        "lstm.add(Dense(1))\n",
        "lstm.compile(loss='mean_squared_error', optimizer='adam')\n",
        "plot_model(lstm, show_shapes=True, show_layer_names=True)"
      ],
      "execution_count": null,
      "outputs": []
    },
    {
      "cell_type": "code",
      "metadata": {
        "id": "rFKs6NxGrWp6"
      },
      "source": [
        "# Model Training\n",
        "history = lstm.fit(X_train, y_train, epochs=100, batch_size=8, verbose=1, shuffle=False)"
      ],
      "execution_count": null,
      "outputs": []
    },
    {
      "cell_type": "code",
      "metadata": {
        "id": "FCBQe_HMrYoY"
      },
      "source": [
        "# LSTM Prediction\n",
        "y_pred= lstm.predict(X_test)"
      ],
      "execution_count": null,
      "outputs": []
    },
    {
      "cell_type": "code",
      "metadata": {
        "id": "byhXxdgFre8R"
      },
      "source": [
        "# True vs Predicted Adj Close Value – LSTM\n",
        "plt.plot(y_test, label='True Value')\n",
        "plt.plot(y_pred, label='LSTM Value')\n",
        "plt.title('Prediction by LSTM')\n",
        "plt.xlabel('Time Scale')\n",
        "plt.ylabel('Scaled USD')\n",
        "plt.legend()\n",
        "plt.show()"
      ],
      "execution_count": null,
      "outputs": []
    }
  ]
}