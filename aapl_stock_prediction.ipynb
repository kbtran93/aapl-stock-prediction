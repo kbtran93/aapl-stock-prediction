{
  "nbformat": 4,
  "nbformat_minor": 0,
  "metadata": {
    "colab": {
      "name": "aapl_stock_prediction.ipynb",
      "provenance": [],
      "collapsed_sections": [],
      "authorship_tag": "ABX9TyNKOoJ03ZVwv3ls+HyguKkV",
      "include_colab_link": true
    },
    "kernelspec": {
      "name": "python3",
      "display_name": "Python 3"
    },
    "language_info": {
      "name": "python"
    }
  },
  "cells": [
    {
      "cell_type": "markdown",
      "metadata": {
        "id": "view-in-github",
        "colab_type": "text"
      },
      "source": [
        "<a href=\"https://colab.research.google.com/github/kbtran93/aapl-stock-prediction/blob/main/aapl_stock_prediction.ipynb\" target=\"_parent\"><img src=\"https://colab.research.google.com/assets/colab-badge.svg\" alt=\"Open In Colab\"/></a>"
      ]
    },
    {
      "cell_type": "markdown",
      "metadata": {
        "id": "_APMpHg664Ot"
      },
      "source": [
        "# **Apple Stock Prediction**"
      ]
    },
    {
      "cell_type": "code",
      "metadata": {
        "id": "RoP22SFepfaD"
      },
      "source": [
        "# Import required modules\n",
        "import pandas as pd\n",
        "import matplotlib as mpl\n",
        "import matplotlib.pyplot as plt\n",
        "import seaborn as sns\n",
        "import numpy as np\n",
        "from dateutil.parser import parse\n",
        "%matplotlib inline\n",
        "\n",
        "from sklearn.preprocessing import MinMaxScaler\n",
        "from keras.layers import LSTM, Dense, Dropout\n",
        "from sklearn.model_selection import TimeSeriesSplit\n",
        "from sklearn.metrics import mean_squared_error, r2_score\n",
        "import matplotlib.dates as mandates\n",
        "from sklearn import linear_model\n",
        "from keras.models import Sequential\n",
        "import keras.backend as K\n",
        "from keras.callbacks import EarlyStopping\n",
        "from tensorflow.keras.optimizers import Adam\n",
        "from keras.models import load_model\n",
        "from keras.utils.vis_utils import plot_model"
      ],
      "execution_count": 10,
      "outputs": []
    },
    {
      "cell_type": "code",
      "metadata": {
        "colab": {
          "resources": {
            "http://localhost:8080/nbextensions/google.colab/files.js": {
              "data": "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",
              "ok": true,
              "headers": [
                [
                  "content-type",
                  "application/javascript"
                ]
              ],
              "status": 200,
              "status_text": ""
            }
          },
          "base_uri": "https://localhost:8080/",
          "height": 72
        },
        "id": "KES_QQkq1Jva",
        "outputId": "b35ab7b1-4a96-4429-833c-a400248da566"
      },
      "source": [
        "from google.colab import files\n",
        "uploaded = files.upload()"
      ],
      "execution_count": 14,
      "outputs": [
        {
          "output_type": "display_data",
          "data": {
            "text/html": [
              "\n",
              "     <input type=\"file\" id=\"files-763e93eb-f69e-40a8-95b7-c4161eecbe36\" name=\"files[]\" multiple disabled\n",
              "        style=\"border:none\" />\n",
              "     <output id=\"result-763e93eb-f69e-40a8-95b7-c4161eecbe36\">\n",
              "      Upload widget is only available when the cell has been executed in the\n",
              "      current browser session. Please rerun this cell to enable.\n",
              "      </output>\n",
              "      <script src=\"/nbextensions/google.colab/files.js\"></script> "
            ],
            "text/plain": [
              "<IPython.core.display.HTML object>"
            ]
          },
          "metadata": {}
        },
        {
          "output_type": "stream",
          "name": "stdout",
          "text": [
            "Saving AAPL.csv to AAPL (1).csv\n"
          ]
        }
      ]
    },
    {
      "cell_type": "code",
      "metadata": {
        "colab": {
          "base_uri": "https://localhost:8080/",
          "height": 297
        },
        "id": "nGyrBexxqD7g",
        "outputId": "bd4d1ba3-c83d-4607-82dd-64c829d6bc2e"
      },
      "source": [
        "import io\n",
        "# Import the data\n",
        "df = pd.read_csv(io.StringIO(uploaded['AAPL.csv'].decode('utf-8')))\n",
        "df.head()\n",
        "# Describe the data\n",
        "df.describe()"
      ],
      "execution_count": 15,
      "outputs": [
        {
          "output_type": "execute_result",
          "data": {
            "text/html": [
              "<div>\n",
              "<style scoped>\n",
              "    .dataframe tbody tr th:only-of-type {\n",
              "        vertical-align: middle;\n",
              "    }\n",
              "\n",
              "    .dataframe tbody tr th {\n",
              "        vertical-align: top;\n",
              "    }\n",
              "\n",
              "    .dataframe thead th {\n",
              "        text-align: right;\n",
              "    }\n",
              "</style>\n",
              "<table border=\"1\" class=\"dataframe\">\n",
              "  <thead>\n",
              "    <tr style=\"text-align: right;\">\n",
              "      <th></th>\n",
              "      <th>Open</th>\n",
              "      <th>High</th>\n",
              "      <th>Low</th>\n",
              "      <th>Close</th>\n",
              "      <th>Adj Close</th>\n",
              "      <th>Volume</th>\n",
              "    </tr>\n",
              "  </thead>\n",
              "  <tbody>\n",
              "    <tr>\n",
              "      <th>count</th>\n",
              "      <td>10272.000000</td>\n",
              "      <td>10272.000000</td>\n",
              "      <td>10272.000000</td>\n",
              "      <td>10272.000000</td>\n",
              "      <td>10272.000000</td>\n",
              "      <td>1.027200e+04</td>\n",
              "    </tr>\n",
              "    <tr>\n",
              "      <th>mean</th>\n",
              "      <td>12.006819</td>\n",
              "      <td>12.134860</td>\n",
              "      <td>11.877629</td>\n",
              "      <td>12.011191</td>\n",
              "      <td>11.420584</td>\n",
              "      <td>3.353832e+08</td>\n",
              "    </tr>\n",
              "    <tr>\n",
              "      <th>std</th>\n",
              "      <td>25.111332</td>\n",
              "      <td>25.388548</td>\n",
              "      <td>24.833693</td>\n",
              "      <td>25.123982</td>\n",
              "      <td>24.816645</td>\n",
              "      <td>3.404297e+08</td>\n",
              "    </tr>\n",
              "    <tr>\n",
              "      <th>min</th>\n",
              "      <td>0.049665</td>\n",
              "      <td>0.049665</td>\n",
              "      <td>0.049107</td>\n",
              "      <td>0.049107</td>\n",
              "      <td>0.038490</td>\n",
              "      <td>0.000000e+00</td>\n",
              "    </tr>\n",
              "    <tr>\n",
              "      <th>25%</th>\n",
              "      <td>0.276786</td>\n",
              "      <td>0.284375</td>\n",
              "      <td>0.270089</td>\n",
              "      <td>0.276964</td>\n",
              "      <td>0.232579</td>\n",
              "      <td>1.273552e+08</td>\n",
              "    </tr>\n",
              "    <tr>\n",
              "      <th>50%</th>\n",
              "      <td>0.456451</td>\n",
              "      <td>0.464286</td>\n",
              "      <td>0.446987</td>\n",
              "      <td>0.455357</td>\n",
              "      <td>0.378405</td>\n",
              "      <td>2.233742e+08</td>\n",
              "    </tr>\n",
              "    <tr>\n",
              "      <th>75%</th>\n",
              "      <td>12.687857</td>\n",
              "      <td>12.825715</td>\n",
              "      <td>12.579018</td>\n",
              "      <td>12.687143</td>\n",
              "      <td>10.893390</td>\n",
              "      <td>4.177250e+08</td>\n",
              "    </tr>\n",
              "    <tr>\n",
              "      <th>max</th>\n",
              "      <td>156.979996</td>\n",
              "      <td>157.259995</td>\n",
              "      <td>154.389999</td>\n",
              "      <td>156.690002</td>\n",
              "      <td>156.690002</td>\n",
              "      <td>7.421641e+09</td>\n",
              "    </tr>\n",
              "  </tbody>\n",
              "</table>\n",
              "</div>"
            ],
            "text/plain": [
              "               Open          High  ...     Adj Close        Volume\n",
              "count  10272.000000  10272.000000  ...  10272.000000  1.027200e+04\n",
              "mean      12.006819     12.134860  ...     11.420584  3.353832e+08\n",
              "std       25.111332     25.388548  ...     24.816645  3.404297e+08\n",
              "min        0.049665      0.049665  ...      0.038490  0.000000e+00\n",
              "25%        0.276786      0.284375  ...      0.232579  1.273552e+08\n",
              "50%        0.456451      0.464286  ...      0.378405  2.233742e+08\n",
              "75%       12.687857     12.825715  ...     10.893390  4.177250e+08\n",
              "max      156.979996    157.259995  ...    156.690002  7.421641e+09\n",
              "\n",
              "[8 rows x 6 columns]"
            ]
          },
          "metadata": {},
          "execution_count": 15
        }
      ]
    },
    {
      "cell_type": "code",
      "metadata": {
        "id": "lw3IuaoNqHsP",
        "colab": {
          "base_uri": "https://localhost:8080/"
        },
        "outputId": "4996787d-d03a-4158-d847-010f79765036"
      },
      "source": [
        "# Convert the Date column to datetime\n",
        "df.Date = pd.to_datetime(df.Date, infer_datetime_format=True)\n",
        "\n",
        "# Set the Date as index\n",
        "df.set_index('Date', inplace=True)\n",
        "df.index"
      ],
      "execution_count": 16,
      "outputs": [
        {
          "output_type": "execute_result",
          "data": {
            "text/plain": [
              "DatetimeIndex(['1980-12-12', '1980-12-15', '1980-12-16', '1980-12-17',\n",
              "               '1980-12-18', '1980-12-19', '1980-12-22', '1980-12-23',\n",
              "               '1980-12-24', '1980-12-26',\n",
              "               ...\n",
              "               '2021-08-25', '2021-08-26', '2021-08-27', '2021-08-30',\n",
              "               '2021-08-31', '2021-09-01', '2021-09-02', '2021-09-03',\n",
              "               '2021-09-07', '2021-09-08'],\n",
              "              dtype='datetime64[ns]', name='Date', length=10272, freq=None)"
            ]
          },
          "metadata": {},
          "execution_count": 16
        }
      ]
    },
    {
      "cell_type": "code",
      "metadata": {
        "id": "wQ3F0aVxqRiO",
        "colab": {
          "base_uri": "https://localhost:8080/",
          "height": 611
        },
        "outputId": "ae8948ac-6094-4122-fce7-a452a0f6a9d6"
      },
      "source": [
        "# Use seaborn style defaults and set the default figure size\n",
        "sns.set(rc={'figure.figsize':(11, 4)})\n",
        "\n",
        "# Plotting\n",
        "fig, ax = plt.subplots()\n",
        "fig.set_size_inches(14, 10)\n",
        "ax = sns.lineplot(data=df[['Open', 'Low', 'High', 'Close']])"
      ],
      "execution_count": 17,
      "outputs": [
        {
          "output_type": "display_data",
          "data": {
            "image/png": "[encoded data removed]",
            "text/plain": [
              "<Figure size 1008x720 with 1 Axes>"
            ]
          },
          "metadata": {}
        }
      ]
    },
    {
      "cell_type": "code",
      "metadata": {
        "id": "2ZssZM5LqWpn"
      },
      "source": [
        "# Set Target Variable\n",
        "output_var = pd.DataFrame(df['Adj Close'])\n",
        "\n",
        "# Selecting the Features\n",
        "features = ['Open', 'High','Low','Volume']"
      ],
      "execution_count": 18,
      "outputs": []
    },
    {
      "cell_type": "code",
      "metadata": {
        "id": "Xd9SQcleqcPp",
        "colab": {
          "base_uri": "https://localhost:8080/",
          "height": 235
        },
        "outputId": "581a8fd0-5d92-43e7-f24e-5327661f0a70"
      },
      "source": [
        "# Scaling\n",
        "scaler = MinMaxScaler()\n",
        "feature_transform = scaler.fit_transform(df[features])\n",
        "feature_transform= pd.DataFrame(columns=features, data=feature_transform, index=df.index)\n",
        "feature_transform.head()"
      ],
      "execution_count": 19,
      "outputs": [
        {
          "output_type": "execute_result",
          "data": {
            "text/html": [
              "<div>\n",
              "<style scoped>\n",
              "    .dataframe tbody tr th:only-of-type {\n",
              "        vertical-align: middle;\n",
              "    }\n",
              "\n",
              "    .dataframe tbody tr th {\n",
              "        vertical-align: top;\n",
              "    }\n",
              "\n",
              "    .dataframe thead th {\n",
              "        text-align: right;\n",
              "    }\n",
              "</style>\n",
              "<table border=\"1\" class=\"dataframe\">\n",
              "  <thead>\n",
              "    <tr style=\"text-align: right;\">\n",
              "      <th></th>\n",
              "      <th>Open</th>\n",
              "      <th>High</th>\n",
              "      <th>Low</th>\n",
              "      <th>Volume</th>\n",
              "    </tr>\n",
              "    <tr>\n",
              "      <th>Date</th>\n",
              "      <th></th>\n",
              "      <th></th>\n",
              "      <th></th>\n",
              "      <th></th>\n",
              "    </tr>\n",
              "  </thead>\n",
              "  <tbody>\n",
              "    <tr>\n",
              "      <th>1980-12-12</th>\n",
              "      <td>0.000501</td>\n",
              "      <td>0.000504</td>\n",
              "      <td>0.000513</td>\n",
              "      <td>0.063198</td>\n",
              "    </tr>\n",
              "    <tr>\n",
              "      <th>1980-12-15</th>\n",
              "      <td>0.000462</td>\n",
              "      <td>0.000461</td>\n",
              "      <td>0.000470</td>\n",
              "      <td>0.023699</td>\n",
              "    </tr>\n",
              "    <tr>\n",
              "      <th>1980-12-16</th>\n",
              "      <td>0.000405</td>\n",
              "      <td>0.000405</td>\n",
              "      <td>0.000412</td>\n",
              "      <td>0.014246</td>\n",
              "    </tr>\n",
              "    <tr>\n",
              "      <th>1980-12-17</th>\n",
              "      <td>0.000420</td>\n",
              "      <td>0.000422</td>\n",
              "      <td>0.000430</td>\n",
              "      <td>0.011647</td>\n",
              "    </tr>\n",
              "    <tr>\n",
              "      <th>1980-12-18</th>\n",
              "      <td>0.000441</td>\n",
              "      <td>0.000444</td>\n",
              "      <td>0.000452</td>\n",
              "      <td>0.009897</td>\n",
              "    </tr>\n",
              "  </tbody>\n",
              "</table>\n",
              "</div>"
            ],
            "text/plain": [
              "                Open      High       Low    Volume\n",
              "Date                                              \n",
              "1980-12-12  0.000501  0.000504  0.000513  0.063198\n",
              "1980-12-15  0.000462  0.000461  0.000470  0.023699\n",
              "1980-12-16  0.000405  0.000405  0.000412  0.014246\n",
              "1980-12-17  0.000420  0.000422  0.000430  0.011647\n",
              "1980-12-18  0.000441  0.000444  0.000452  0.009897"
            ]
          },
          "metadata": {},
          "execution_count": 19
        }
      ]
    },
    {
      "cell_type": "code",
      "metadata": {
        "id": "W5SSiS3Eqkg6"
      },
      "source": [
        "# Splitting to Training set and Test set\n",
        "timesplit = TimeSeriesSplit(n_splits=10)\n",
        "\n",
        "for train_index, test_index in timesplit.split(feature_transform):\n",
        "        X_train, X_test = feature_transform[:len(train_index)], feature_transform[len(train_index): (len(train_index)+len(test_index))]\n",
        "        y_train, y_test = output_var[:len(train_index)].values.ravel(), output_var[len(train_index): (len(train_index)+len(test_index))].values.ravel()\n"
      ],
      "execution_count": 20,
      "outputs": []
    },
    {
      "cell_type": "code",
      "metadata": {
        "id": "9UtogzZmquVm"
      },
      "source": [
        "# Process the data for LSTM\n",
        "trainX = np.array(X_train)\n",
        "testX = np.array(X_test)\n",
        "X_train = trainX.reshape(X_train.shape[0], 1, X_train.shape[1])\n",
        "X_test = testX.reshape(X_test.shape[0], 1, X_test.shape[1])"
      ],
      "execution_count": 21,
      "outputs": []
    },
    {
      "cell_type": "code",
      "metadata": {
        "id": "UdZ3zY_uqyjX",
        "colab": {
          "base_uri": "https://localhost:8080/",
          "height": 312
        },
        "outputId": "6a5caec2-105a-4e31-e3ad-fbd45e69043b"
      },
      "source": [
        "# Building the LSTM Model\n",
        "lstm = Sequential()\n",
        "lstm.add(LSTM(32, input_shape=(1, trainX.shape[1]), activation='relu', return_sequences=False))\n",
        "lstm.add(Dense(1))\n",
        "lstm.compile(loss='mean_squared_error', optimizer='adam')\n",
        "plot_model(lstm, show_shapes=True, show_layer_names=True)"
      ],
      "execution_count": 22,
      "outputs": [
        {
          "output_type": "execute_result",
          "data": {
            "image/png": "[encoded data removed]",
            "text/plain": [
              "<IPython.core.display.Image object>"
            ]
          },
          "metadata": {},
          "execution_count": 22
        }
      ]
    },
    {
      "cell_type": "code",
      "metadata": {
        "id": "rFKs6NxGrWp6",
        "colab": {
          "base_uri": "https://localhost:8080/"
        },
        "outputId": "bd779b6b-57b8-44f1-cae3-483995db0103"
      },
      "source": [
        "# Model Training\n",
        "history = lstm.fit(X_train, y_train, epochs=100, batch_size=8, verbose=1, shuffle=False)"
      ],
      "execution_count": 23,
      "outputs": [
        {
          "output_type": "stream",
          "name": "stdout",
          "text": [
            "Epoch 1/100\n",
            "1168/1168 [==============================] - 4s 2ms/step - loss: 2.7450\n",
            "Epoch 2/100\n",
            "1168/1168 [==============================] - 2s 2ms/step - loss: 30.5034\n",
            "Epoch 3/100\n",
            "1168/1168 [==============================] - 2s 2ms/step - loss: 6.9761\n",
            "Epoch 4/100\n",
            "1168/1168 [==============================] - 2s 2ms/step - loss: 1.4955\n",
            "Epoch 5/100\n",
            "1168/1168 [==============================] - 2s 2ms/step - loss: 0.2306\n",
            "Epoch 6/100\n",
            "1168/1168 [==============================] - 2s 2ms/step - loss: 0.0593\n",
            "Epoch 7/100\n",
            "1168/1168 [==============================] - 2s 2ms/step - loss: 0.0318\n",
            "Epoch 8/100\n",
            "1168/1168 [==============================] - 2s 2ms/step - loss: 0.0243\n",
            "Epoch 9/100\n",
            "1168/1168 [==============================] - 2s 2ms/step - loss: 0.0216\n",
            "Epoch 10/100\n",
            "1168/1168 [==============================] - 2s 2ms/step - loss: 0.0203\n",
            "Epoch 11/100\n",
            "1168/1168 [==============================] - 2s 2ms/step - loss: 0.0196\n",
            "Epoch 12/100\n",
            "1168/1168 [==============================] - 2s 2ms/step - loss: 0.0193\n",
            "Epoch 13/100\n",
            "1168/1168 [==============================] - 2s 2ms/step - loss: 0.0191\n",
            "Epoch 14/100\n",
            "1168/1168 [==============================] - 2s 2ms/step - loss: 0.0190\n",
            "Epoch 15/100\n",
            "1168/1168 [==============================] - 2s 2ms/step - loss: 0.0189\n",
            "Epoch 16/100\n",
            "1168/1168 [==============================] - 2s 2ms/step - loss: 0.0188\n",
            "Epoch 17/100\n",
            "1168/1168 [==============================] - 2s 2ms/step - loss: 0.0187\n",
            "Epoch 18/100\n",
            "1168/1168 [==============================] - 2s 2ms/step - loss: 0.0187\n",
            "Epoch 19/100\n",
            "1168/1168 [==============================] - 2s 2ms/step - loss: 0.0186\n",
            "Epoch 20/100\n",
            "1168/1168 [==============================] - 2s 2ms/step - loss: 0.0185\n",
            "Epoch 21/100\n",
            "1168/1168 [==============================] - 2s 2ms/step - loss: 0.0185\n",
            "Epoch 22/100\n",
            "1168/1168 [==============================] - 2s 2ms/step - loss: 0.0184\n",
            "Epoch 23/100\n",
            "1168/1168 [==============================] - 2s 2ms/step - loss: 0.0184\n",
            "Epoch 24/100\n",
            "1168/1168 [==============================] - 2s 2ms/step - loss: 0.0183\n",
            "Epoch 25/100\n",
            "1168/1168 [==============================] - 2s 2ms/step - loss: 0.0183\n",
            "Epoch 26/100\n",
            "1168/1168 [==============================] - 2s 2ms/step - loss: 0.0182\n",
            "Epoch 27/100\n",
            "1168/1168 [==============================] - 2s 2ms/step - loss: 0.0182\n",
            "Epoch 28/100\n",
            "1168/1168 [==============================] - 2s 2ms/step - loss: 0.0182\n",
            "Epoch 29/100\n",
            "1168/1168 [==============================] - 2s 2ms/step - loss: 0.0181\n",
            "Epoch 30/100\n",
            "1168/1168 [==============================] - 2s 2ms/step - loss: 0.0181\n",
            "Epoch 31/100\n",
            "1168/1168 [==============================] - 2s 2ms/step - loss: 0.0180\n",
            "Epoch 32/100\n",
            "1168/1168 [==============================] - 2s 2ms/step - loss: 0.0180\n",
            "Epoch 33/100\n",
            "1168/1168 [==============================] - 2s 2ms/step - loss: 0.0180\n",
            "Epoch 34/100\n",
            "1168/1168 [==============================] - 2s 2ms/step - loss: 0.0179\n",
            "Epoch 35/100\n",
            "1168/1168 [==============================] - 2s 2ms/step - loss: 0.0179\n",
            "Epoch 36/100\n",
            "1168/1168 [==============================] - 2s 2ms/step - loss: 0.0179\n",
            "Epoch 37/100\n",
            "1168/1168 [==============================] - 2s 2ms/step - loss: 0.0179\n",
            "Epoch 38/100\n",
            "1168/1168 [==============================] - 2s 2ms/step - loss: 0.0179\n",
            "Epoch 39/100\n",
            "1168/1168 [==============================] - 2s 2ms/step - loss: 0.0178\n",
            "Epoch 40/100\n",
            "1168/1168 [==============================] - 2s 2ms/step - loss: 0.0178\n",
            "Epoch 41/100\n",
            "1168/1168 [==============================] - 2s 2ms/step - loss: 0.0178\n",
            "Epoch 42/100\n",
            "1168/1168 [==============================] - 2s 2ms/step - loss: 0.0178\n",
            "Epoch 43/100\n",
            "1168/1168 [==============================] - 2s 2ms/step - loss: 0.0178\n",
            "Epoch 44/100\n",
            "1168/1168 [==============================] - 2s 2ms/step - loss: 0.0177\n",
            "Epoch 45/100\n",
            "1168/1168 [==============================] - 2s 2ms/step - loss: 0.0177\n",
            "Epoch 46/100\n",
            "1168/1168 [==============================] - 2s 2ms/step - loss: 0.0177\n",
            "Epoch 47/100\n",
            "1168/1168 [==============================] - 2s 2ms/step - loss: 0.0177\n",
            "Epoch 48/100\n",
            "1168/1168 [==============================] - 2s 2ms/step - loss: 0.0177\n",
            "Epoch 49/100\n",
            "1168/1168 [==============================] - 2s 2ms/step - loss: 0.0177\n",
            "Epoch 50/100\n",
            "1168/1168 [==============================] - 2s 2ms/step - loss: 0.0177\n",
            "Epoch 51/100\n",
            "1168/1168 [==============================] - 2s 2ms/step - loss: 0.0177\n",
            "Epoch 52/100\n",
            "1168/1168 [==============================] - 2s 2ms/step - loss: 0.0177\n",
            "Epoch 53/100\n",
            "1168/1168 [==============================] - 2s 2ms/step - loss: 0.0177\n",
            "Epoch 54/100\n",
            "1168/1168 [==============================] - 2s 2ms/step - loss: 0.0177\n",
            "Epoch 55/100\n",
            "1168/1168 [==============================] - 2s 2ms/step - loss: 0.0177\n",
            "Epoch 56/100\n",
            "1168/1168 [==============================] - 2s 2ms/step - loss: 0.0177\n",
            "Epoch 57/100\n",
            "1168/1168 [==============================] - 2s 2ms/step - loss: 0.0177\n",
            "Epoch 58/100\n",
            "1168/1168 [==============================] - 2s 2ms/step - loss: 0.0177\n",
            "Epoch 59/100\n",
            "1168/1168 [==============================] - 2s 2ms/step - loss: 0.0177\n",
            "Epoch 60/100\n",
            "1168/1168 [==============================] - 2s 2ms/step - loss: 0.0177\n",
            "Epoch 61/100\n",
            "1168/1168 [==============================] - 2s 2ms/step - loss: 0.0177\n",
            "Epoch 62/100\n",
            "1168/1168 [==============================] - 2s 2ms/step - loss: 0.0177\n",
            "Epoch 63/100\n",
            "1168/1168 [==============================] - 2s 2ms/step - loss: 0.0177\n",
            "Epoch 64/100\n",
            "1168/1168 [==============================] - 2s 2ms/step - loss: 0.0177\n",
            "Epoch 65/100\n",
            "1168/1168 [==============================] - 2s 2ms/step - loss: 0.0177\n",
            "Epoch 66/100\n",
            "1168/1168 [==============================] - 2s 2ms/step - loss: 0.0177\n",
            "Epoch 67/100\n",
            "1168/1168 [==============================] - 2s 2ms/step - loss: 0.0177\n",
            "Epoch 68/100\n",
            "1168/1168 [==============================] - 2s 2ms/step - loss: 0.0177\n",
            "Epoch 69/100\n",
            "1168/1168 [==============================] - 2s 2ms/step - loss: 0.0176\n",
            "Epoch 70/100\n",
            "1168/1168 [==============================] - 2s 2ms/step - loss: 0.0176\n",
            "Epoch 71/100\n",
            "1168/1168 [==============================] - 2s 2ms/step - loss: 0.0176\n",
            "Epoch 72/100\n",
            "1168/1168 [==============================] - 2s 2ms/step - loss: 0.0176\n",
            "Epoch 73/100\n",
            "1168/1168 [==============================] - 2s 2ms/step - loss: 0.0176\n",
            "Epoch 74/100\n",
            "1168/1168 [==============================] - 2s 2ms/step - loss: 0.0176\n",
            "Epoch 75/100\n",
            "1168/1168 [==============================] - 2s 2ms/step - loss: 0.0176\n",
            "Epoch 76/100\n",
            "1168/1168 [==============================] - 2s 2ms/step - loss: 0.0176\n",
            "Epoch 77/100\n",
            "1168/1168 [==============================] - 2s 2ms/step - loss: 0.0176\n",
            "Epoch 78/100\n",
            "1168/1168 [==============================] - 2s 2ms/step - loss: 0.0176\n",
            "Epoch 79/100\n",
            "1168/1168 [==============================] - 2s 2ms/step - loss: 0.0176\n",
            "Epoch 80/100\n",
            "1168/1168 [==============================] - 2s 2ms/step - loss: 0.0175\n",
            "Epoch 81/100\n",
            "1168/1168 [==============================] - 2s 2ms/step - loss: 0.0175\n",
            "Epoch 82/100\n",
            "1168/1168 [==============================] - 2s 2ms/step - loss: 0.0175\n",
            "Epoch 83/100\n",
            "1168/1168 [==============================] - 2s 2ms/step - loss: 0.0175\n",
            "Epoch 84/100\n",
            "1168/1168 [==============================] - 2s 2ms/step - loss: 0.0175\n",
            "Epoch 85/100\n",
            "1168/1168 [==============================] - 2s 2ms/step - loss: 0.0175\n",
            "Epoch 86/100\n",
            "1168/1168 [==============================] - 2s 2ms/step - loss: 0.0175\n",
            "Epoch 87/100\n",
            "1168/1168 [==============================] - 2s 2ms/step - loss: 0.0175\n",
            "Epoch 88/100\n",
            "1168/1168 [==============================] - 2s 2ms/step - loss: 0.0174\n",
            "Epoch 89/100\n",
            "1168/1168 [==============================] - 2s 2ms/step - loss: 0.0174\n",
            "Epoch 90/100\n",
            "1168/1168 [==============================] - 2s 2ms/step - loss: 0.0174\n",
            "Epoch 91/100\n",
            "1168/1168 [==============================] - 2s 2ms/step - loss: 0.0174\n",
            "Epoch 92/100\n",
            "1168/1168 [==============================] - 2s 2ms/step - loss: 0.0174\n",
            "Epoch 93/100\n",
            "1168/1168 [==============================] - 2s 2ms/step - loss: 0.0174\n",
            "Epoch 94/100\n",
            "1168/1168 [==============================] - 2s 2ms/step - loss: 0.0174\n",
            "Epoch 95/100\n",
            "1168/1168 [==============================] - 2s 2ms/step - loss: 0.0173\n",
            "Epoch 96/100\n",
            "1168/1168 [==============================] - 2s 2ms/step - loss: 0.0173\n",
            "Epoch 97/100\n",
            "1168/1168 [==============================] - 2s 2ms/step - loss: 0.0173\n",
            "Epoch 98/100\n",
            "1168/1168 [==============================] - 2s 2ms/step - loss: 0.0173\n",
            "Epoch 99/100\n",
            "1168/1168 [==============================] - 2s 2ms/step - loss: 0.0173\n",
            "Epoch 100/100\n",
            "1168/1168 [==============================] - 2s 2ms/step - loss: 0.0173\n"
          ]
        }
      ]
    },
    {
      "cell_type": "code",
      "metadata": {
        "id": "FCBQe_HMrYoY"
      },
      "source": [
        "# LSTM Prediction\n",
        "y_pred= lstm.predict(X_test)"
      ],
      "execution_count": 24,
      "outputs": []
    },
    {
      "cell_type": "code",
      "metadata": {
        "id": "byhXxdgFre8R",
        "colab": {
          "base_uri": "https://localhost:8080/",
          "height": 301
        },
        "outputId": "2101c97e-a37e-4d14-e21d-18fd7dc28df9"
      },
      "source": [
        "# True vs Predicted Adj Close Value – LSTM\n",
        "plt.plot(y_test, label='True Value')\n",
        "plt.plot(y_pred, label='LSTM Value')\n",
        "plt.title('Prediction by LSTM')\n",
        "plt.xlabel('Time Scale')\n",
        "plt.ylabel('Scaled USD')\n",
        "plt.legend()\n",
        "plt.show()"
      ],
      "execution_count": 25,
      "outputs": [
        {
          "output_type": "display_data",
          "data": {
            "image/png": "[encoded data removed]",
            "text/plain": [
              "<Figure size 792x288 with 1 Axes>"
            ]
          },
          "metadata": {}
        }
      ]
    }
  ]
}